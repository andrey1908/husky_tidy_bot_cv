{
 "cells": [
  {
   "cell_type": "code",
   "execution_count": null,
   "metadata": {},
   "outputs": [],
   "source": [
    "%reload_ext autoreload\n",
    "%autoreload 2\n",
    "\n",
    "from ros_camera import RosCamera\n",
    "from camera_utils import stream\n",
    "from yolov8 import YOLOv8\n",
    "from byte_track import ByteTrack\n",
    "from track_3d import Tracker3D\n",
    "import cv2\n",
    "import numpy as np\n",
    "from time import time\n",
    "\n",
    "\n",
    "def depth_scale(depth):\n",
    "    if depth.dtype == np.uint16:\n",
    "        return 0.001\n",
    "    if depth.dtype == float:\n",
    "        return 1\n",
    "    raise RuntimeError\n",
    "\n",
    "\n",
    "class TimeMeasurer:\n",
    "    def __init__(self, name):\n",
    "        self.name = name\n",
    "\n",
    "    def __enter__(self):\n",
    "        self.tic = time()\n",
    "        return self\n",
    "\n",
    "    def __exit__(self, type, value, traceback):\n",
    "        toc = time()\n",
    "        print(f\"{self.name}: {toc - self.tic:.03f}\")"
   ]
  },
  {
   "cell_type": "code",
   "execution_count": 5,
   "metadata": {},
   "outputs": [],
   "source": [
    "camera = RosCamera(\n",
    "    \"/realsense_gripper/color/camera_info\",\n",
    "    \"/realsense_gripper/color/image_raw/compressed\",\n",
    "    \"/realsense_gripper/aligned_depth_to_color/camera_info\",\n",
    "    \"/realsense_gripper/aligned_depth_to_color/image_raw\",\n",
    "    \"toy_box_3.bag\", exact_sync=True)"
   ]
  },
  {
   "cell_type": "code",
   "execution_count": null,
   "metadata": {},
   "outputs": [],
   "source": [
    "model_file = \"/home/cds-jetson-host/ultralytics/yolov8n-seg-1class.yaml\"\n",
    "weights_file = \"/home/cds-jetson-host/ultralytics/runs/segment/train3/weights/last.pt\"\n",
    "yolov8 = YOLOv8(model_file, weights_file, min_score=0.7)\n",
    "byte_track = ByteTrack(frame_rate=30, track_buffer=30)\n",
    "tracker_3d = Tracker3D(15, camera.K, camera.D)\n",
    "odom = cv2.rgbd.RgbdOdometry_create(camera.K, 0.1, 3.0)"
   ]
  },
  {
   "cell_type": "code",
   "execution_count": null,
   "metadata": {},
   "outputs": [],
   "source": [
    "stream(camera)"
   ]
  },
  {
   "cell_type": "code",
   "execution_count": null,
   "metadata": {},
   "outputs": [],
   "source": [
    "def detect_toy_box(key, image, depth):\n",
    "\n",
    "    def prep_rgbd(image, depth):\n",
    "        image_prep = cv2.cvtColor(image, cv2.COLOR_BGR2GRAY)\n",
    "        depth_prep = (depth * depth_scale(depth)).astype(np.float32)\n",
    "        return image_prep, depth_prep\n",
    "\n",
    "    with TimeMeasurer(\"segmentation\") as tm:\n",
    "        scores, classes_ids, boxes, masks = yolov8.segment(image)\n",
    "\n",
    "    segmentation_vis = image.copy()\n",
    "    YOLOv8.draw_segmentation(segmentation_vis, scores, classes_ids, boxes, masks)\n",
    "    segmentation_image = YOLOv8.to_segmentation_image(classes_ids, masks)\n",
    "\n",
    "    boxes, scores, classes_ids, masks = ByteTrack.from_segmentation_image(segmentation_image)\n",
    "    with TimeMeasurer(\"tracking\") as tm:\n",
    "        tracked_objects = byte_track.track(boxes, scores, classes_ids, masks=masks)\n",
    "\n",
    "    tracking_vis = image.copy()\n",
    "    ByteTrack.draw_tracked_objects(tracking_vis, tracked_objects)\n",
    "    tracking_image = ByteTrack.to_tracking_image(tracked_objects, segmentation_image.shape)\n",
    "\n",
    "    image_prep, depth_prep = prep_rgbd(image, depth)\n",
    "    if detect_toy_box.prev_image_prep is None:\n",
    "        detect_toy_box.pose = np.eye(4)\n",
    "    else:\n",
    "        with TimeMeasurer(\"odometry\") as tm:\n",
    "            ret, transform = odom.compute(\n",
    "                image_prep, depth_prep, np.empty((0,)),\n",
    "                detect_toy_box.prev_image_prep, detect_toy_box.prev_depth_prep, np.empty((0,)))\n",
    "        assert ret\n",
    "        if ret == False:\n",
    "            detect_toy_box.pose = np.eye(4)\n",
    "            print(\"Odomtery failed\")\n",
    "        else:\n",
    "            detect_toy_box.pose = np.matmul(detect_toy_box.pose, transform)\n",
    "    detect_toy_box.prev_image_prep = image_prep\n",
    "    detect_toy_box.prev_depth_prep = depth_prep\n",
    "\n",
    "    classes_ids, tracking_ids, masks = Tracker3D.from_tracking_image(tracking_image)\n",
    "    with TimeMeasurer(\"tracking 3d\") as tm:\n",
    "        tracker_3d.update(detect_toy_box.pose, depth, classes_ids, tracking_ids, masks)\n",
    "\n",
    "    image[...] = tracking_vis\n",
    "\n",
    "    print()\n",
    "\n",
    "detect_toy_box.prev_image_prep = None"
   ]
  },
  {
   "cell_type": "code",
   "execution_count": null,
   "metadata": {},
   "outputs": [],
   "source": [
    "detect_toy_box.prev_image_prep = None\n",
    "\n",
    "stream(camera, detect_toy_box)"
   ]
  },
  {
   "cell_type": "code",
   "execution_count": null,
   "metadata": {},
   "outputs": [],
   "source": [
    "for tracked_object in tracker_3d.tracked_objects:\n",
    "    print(tracked_object.pose)"
   ]
  },
  {
   "cell_type": "code",
   "execution_count": null,
   "metadata": {},
   "outputs": [],
   "source": [
    "print(tracker_3d.tracked_objects[0].pose - tracker_3d.tracked_objects[1].pose)"
   ]
  }
 ],
 "metadata": {
  "kernelspec": {
   "display_name": "env",
   "language": "python",
   "name": "python3"
  },
  "language_info": {
   "codemirror_mode": {
    "name": "ipython",
    "version": 3
   },
   "file_extension": ".py",
   "mimetype": "text/x-python",
   "name": "python",
   "nbconvert_exporter": "python",
   "pygments_lexer": "ipython3",
   "version": "3.9.0"
  },
  "orig_nbformat": 4
 },
 "nbformat": 4,
 "nbformat_minor": 2
}
