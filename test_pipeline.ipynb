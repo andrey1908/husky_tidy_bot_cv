{
 "cells": [
  {
   "cell_type": "code",
   "execution_count": null,
   "metadata": {},
   "outputs": [],
   "source": [
    "import cv2\n",
    "import numpy as np\n",
    "from yolov8 import YOLOv8\n",
    "from byte_track import ByteTrack"
   ]
  },
  {
   "cell_type": "code",
   "execution_count": null,
   "metadata": {},
   "outputs": [],
   "source": [
    "model_file = \"/home/cds-jetson-host/ultralytics/yolov8n-seg-1class.yaml\"\n",
    "weights_file = \"/home/cds-jetson-host/ultralytics/runs/segment/train2/weights/last.pt\"\n",
    "yolov8 = YOLOv8(model_file, weights_file, min_score=0.7)\n",
    "byte_track = ByteTrack(frame_rate=30, track_buffer=30)"
   ]
  },
  {
   "cell_type": "code",
   "execution_count": null,
   "metadata": {},
   "outputs": [],
   "source": [
    "video_file = \"dataset/all/VID_20230626_183354.mp4\"\n",
    "video = cv2.VideoCapture(video_file)\n",
    "\n",
    "cv2.namedWindow(\"image\", cv2.WINDOW_NORMAL)\n",
    "cv2.namedWindow(\"segmentation\", cv2.WINDOW_NORMAL)\n",
    "cv2.namedWindow(\"tracking\", cv2.WINDOW_NORMAL)\n",
    "cv2.resizeWindow(\"image\", 600, 600)\n",
    "cv2.resizeWindow(\"segmentation\", 600, 600)\n",
    "cv2.resizeWindow(\"tracking\", 600, 600)\n",
    "while True:\n",
    "    ret, image = video.read()\n",
    "    if ret:\n",
    "        scores, classes_ids, boxes, masks = yolov8.segment(image)\n",
    "        segmentation_vis = image.copy()\n",
    "        YOLOv8.draw_detections(segmentation_vis, scores, classes_ids, boxes, masks)\n",
    "        segmentation_image = YOLOv8.to_segmentation_image(classes_ids, masks)\n",
    "        boxes, scores, classes_ids, masks = ByteTrack.from_segmentation_image(segmentation_image)\n",
    "        tracked_objects = byte_track.track(boxes, scores, classes_ids, masks=masks)\n",
    "        tracking_vis = image.copy()\n",
    "        ByteTrack.draw_tracked_objects(tracking_vis, tracked_objects)\n",
    "        tracking_image = ByteTrack.to_tracking_image(tracked_objects, segmentation_image.shape)\n",
    "\n",
    "        cv2.imshow(\"image\", image)\n",
    "        cv2.imshow(\"segmentation\", segmentation_vis)\n",
    "        cv2.imshow(\"tracking\", tracking_vis)\n",
    "        key = cv2.waitKey(100)\n",
    "        if key != -1:\n",
    "            break\n",
    "    else:\n",
    "        break\n",
    "cv2.destroyWindow(\"image\")\n",
    "cv2.destroyWindow(\"segmentation\")\n",
    "cv2.destroyWindow(\"tracking\")\n",
    "\n",
    "video.release()"
   ]
  }
 ],
 "metadata": {
  "kernelspec": {
   "display_name": "env",
   "language": "python",
   "name": "python3"
  },
  "language_info": {
   "codemirror_mode": {
    "name": "ipython",
    "version": 3
   },
   "file_extension": ".py",
   "mimetype": "text/x-python",
   "name": "python",
   "nbconvert_exporter": "python",
   "pygments_lexer": "ipython3",
   "version": "3.9.0"
  },
  "orig_nbformat": 4
 },
 "nbformat": 4,
 "nbformat_minor": 2
}
