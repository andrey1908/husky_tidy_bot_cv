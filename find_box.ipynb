{
 "cells": [
  {
   "cell_type": "code",
   "execution_count": 2,
   "metadata": {},
   "outputs": [],
   "source": [
    "%reload_ext autoreload\n",
    "%autoreload 2\n",
    "\n",
    "import numpy as np\n",
    "import cv2\n",
    "import open3d as o3d\n",
    "from find_box import BoxSegmentator, BoxPoseEstimator\n",
    "from realsense_camera import RealsenseCamera\n",
    "from camera_utils import stream\n",
    "from copy import deepcopy\n",
    "\n",
    "def show(image):\n",
    "    cv2.imshow(\"image\", image)\n",
    "    cv2.waitKey(0)\n",
    "    cv2.destroyAllWindows()"
   ]
  },
  {
   "cell_type": "code",
   "execution_count": null,
   "metadata": {},
   "outputs": [],
   "source": [
    "# initialization\n",
    "\n",
    "camera = RealsenseCamera(enable_depth=True)\n",
    "\n",
    "camera.start()\n",
    "K = camera.get_K()\n",
    "D = camera.get_D()\n",
    "depth_scale = camera.get_depth_scale()\n",
    "camera.stop()\n",
    "\n",
    "box_segmentator = BoxSegmentator(erosion_size=10)\n",
    "box_pose_estimator = BoxPoseEstimator(\n",
    "    edges_sizes=np.array([0.11, 0.05, 0.022]), edge_points_per_cm=7,\n",
    "    voxel_size=0.003, depth_scale=depth_scale, K=K, D=D, mutual_filter=False,\n",
    "    global_max_dist=0.04, global_checker_max_dist=0.01, max_dist=0.007)"
   ]
  },
  {
   "cell_type": "code",
   "execution_count": 24,
   "metadata": {},
   "outputs": [],
   "source": [
    "# test box segmentation\n",
    "\n",
    "camera.start()\n",
    "stream(camera)  # waits for a key to get image\n",
    "image = camera()\n",
    "camera.stop()\n",
    "\n",
    "mask = box_segmentator.segment_box(image)\n",
    "masked_image = image.copy()\n",
    "masked_image[mask == 0] = 0\n",
    "show(masked_image)"
   ]
  },
  {
   "cell_type": "code",
   "execution_count": null,
   "metadata": {},
   "outputs": [],
   "source": [
    "# estimate box pose\n",
    "\n",
    "camera.start()\n",
    "stream(camera)  # waits for a key to get image\n",
    "image, depth = camera.read(read_color=True, read_depth=True)\n",
    "camera.stop()\n",
    "\n",
    "mask = box_segmentator.segment_box(image)\n",
    "global_reg, reg, extracted_box_pc, extracted_box_pc_down = \\\n",
    "    box_pose_estimator.estimate_box_pose(mask, depth)\n",
    "box_pose = reg.transformation"
   ]
  },
  {
   "cell_type": "code",
   "execution_count": 26,
   "metadata": {},
   "outputs": [],
   "source": [
    "# visualize point clouds\n",
    "\n",
    "transformed_box_pc = deepcopy(box_pose_estimator.box_pc)\n",
    "transformed_box_pc.transform(box_pose)\n",
    "transformed_box_pc.paint_uniform_color(np.array([1, 0, 0]))\n",
    "extracted_box_pc.paint_uniform_color(np.array([0, 1, 0]))\n",
    "o3d.visualization.draw_geometries([transformed_box_pc, extracted_box_pc])"
   ]
  },
  {
   "cell_type": "code",
   "execution_count": 37,
   "metadata": {},
   "outputs": [],
   "source": [
    "# visualize box frame\n",
    "\n",
    "force_z_axis_up = False\n",
    "if force_z_axis_up:\n",
    "    if box_pose[1, 2] > 0:\n",
    "        correction = np.eye(4)\n",
    "        correction[0:3, 0:3], _ = cv2.Rodrigues(np.array([np.pi, 0., 0.]))\n",
    "        pose = np.matmul(box_pose, correction)\n",
    "else:\n",
    "    pose = box_pose\n",
    "\n",
    "draw = image.copy()\n",
    "rvec, _ = cv2.Rodrigues(pose[0:3, 0:3])\n",
    "tvec = box_pose[0:3, 3]\n",
    "cv2.drawFrameAxes(draw, K, D, rvec, tvec, 0.07)\n",
    "show(draw)"
   ]
  }
 ],
 "metadata": {
  "kernelspec": {
   "display_name": "env",
   "language": "python",
   "name": "python3"
  },
  "language_info": {
   "codemirror_mode": {
    "name": "ipython",
    "version": 3
   },
   "file_extension": ".py",
   "mimetype": "text/x-python",
   "name": "python",
   "nbconvert_exporter": "python",
   "pygments_lexer": "ipython3",
   "version": "3.9.0"
  },
  "orig_nbformat": 4
 },
 "nbformat": 4,
 "nbformat_minor": 2
}
