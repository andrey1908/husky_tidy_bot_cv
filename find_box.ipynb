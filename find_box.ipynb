{
 "cells": [
  {
   "cell_type": "code",
   "execution_count": 22,
   "metadata": {},
   "outputs": [],
   "source": [
    "%reload_ext autoreload\n",
    "%autoreload 2\n",
    "\n",
    "import numpy as np\n",
    "import cv2\n",
    "import open3d as o3d\n",
    "from find_box import get_box_mask, get_box_pc, prepare_pc, extract_box_pc, estimate_box_pose\n",
    "from realsense_camera import RealsenseCamera\n",
    "from camera_utils import stream\n",
    "from copy import deepcopy\n",
    "\n",
    "def show(image):\n",
    "    cv2.imshow(\"image\", image)\n",
    "    cv2.waitKey(0)\n",
    "    cv2.destroyAllWindows()"
   ]
  },
  {
   "cell_type": "code",
   "execution_count": null,
   "metadata": {},
   "outputs": [],
   "source": [
    "# initialization\n",
    "\n",
    "camera = RealsenseCamera(enable_depth=True)\n",
    "\n",
    "camera.start()\n",
    "K = camera.get_K()\n",
    "depth_scale = camera.get_depth_scale()\n",
    "camera.stop()\n",
    "\n",
    "voxel_size = 0.003\n",
    "box_pc = get_box_pc([0.11, 0.05, 0.022])\n",
    "box_pc_down, box_fpfh = prepare_pc(box_pc, voxel_size=voxel_size)"
   ]
  },
  {
   "cell_type": "code",
   "execution_count": 24,
   "metadata": {},
   "outputs": [],
   "source": [
    "# test box segmentation\n",
    "\n",
    "camera.start()\n",
    "stream(camera)\n",
    "image = camera()\n",
    "camera.stop()\n",
    "\n",
    "mask = get_box_mask(image)\n",
    "masked_image = image.copy()\n",
    "masked_image[mask == 0] = 0\n",
    "show(masked_image)"
   ]
  },
  {
   "cell_type": "code",
   "execution_count": 28,
   "metadata": {},
   "outputs": [],
   "source": [
    "# estimate box pose\n",
    "\n",
    "camera.start()\n",
    "stream(camera)\n",
    "image, depth = camera.read(read_color=True, read_depth=True)\n",
    "camera.stop()\n",
    "\n",
    "voxel_size = 0.003\n",
    "\n",
    "extracted_box_pc = extract_box_pc(image, depth, depth_scale, K)\n",
    "if len(extracted_box_pc.points) < 1000:\n",
    "    print(\"Cloud not extract box point cloud\")\n",
    "else:\n",
    "    extracted_box_pc_down, extracted_box_fpfh = prepare_pc(extracted_box_pc, voxel_size=voxel_size)\n",
    "\n",
    "    global_reg, reg = estimate_box_pose(\n",
    "        extracted_box_pc, box_pc,\n",
    "        extracted_box_pc_down, box_pc_down,\n",
    "        extracted_box_fpfh, box_fpfh,\n",
    "        voxel_size=0.025)\n",
    "\n",
    "    box_pose = reg.transformation"
   ]
  },
  {
   "cell_type": "code",
   "execution_count": 26,
   "metadata": {},
   "outputs": [],
   "source": [
    "# point clouds visualization\n",
    "\n",
    "transformed_box_pc = deepcopy(box_pc)\n",
    "transformed_box_pc.transform(box_pose)\n",
    "transformed_box_pc.paint_uniform_color(np.array([1, 0, 0]))\n",
    "extracted_box_pc.paint_uniform_color(np.array([0, 1, 0]))\n",
    "o3d.visualization.draw_geometries([transformed_box_pc, extracted_box_pc])"
   ]
  }
 ],
 "metadata": {
  "kernelspec": {
   "display_name": "env",
   "language": "python",
   "name": "python3"
  },
  "language_info": {
   "codemirror_mode": {
    "name": "ipython",
    "version": 3
   },
   "file_extension": ".py",
   "mimetype": "text/x-python",
   "name": "python",
   "nbconvert_exporter": "python",
   "pygments_lexer": "ipython3",
   "version": "3.9.0"
  },
  "orig_nbformat": 4
 },
 "nbformat": 4,
 "nbformat_minor": 2
}
