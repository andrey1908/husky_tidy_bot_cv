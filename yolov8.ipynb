{
 "cells": [
  {
   "cell_type": "code",
   "execution_count": 7,
   "metadata": {},
   "outputs": [],
   "source": [
    "%reload_ext autoreload\n",
    "%autoreload 2\n",
    "\n",
    "import cv2\n",
    "import numpy as np\n",
    "from yolov8 import YOLOv8\n",
    "\n",
    "\n",
    "def show(image):\n",
    "    cv2.imshow(\"image\", image)\n",
    "    cv2.waitKey(0)\n",
    "    cv2.destroyAllWindows()"
   ]
  },
  {
   "cell_type": "code",
   "execution_count": null,
   "metadata": {},
   "outputs": [],
   "source": [
    "model_file = \"/home/cds-jetson-host/ultralytics/yolov8n-seg-1class.yaml\"\n",
    "weights_file = \"/home/cds-jetson-host/ultralytics/runs/segment/train2/weights/last.pt\"\n",
    "yolov8 = YOLOv8(model_file, weights_file, min_score=0.7)"
   ]
  },
  {
   "cell_type": "code",
   "execution_count": 11,
   "metadata": {},
   "outputs": [],
   "source": [
    "image_file = \"dataset/all/rejected_raw_images/0010.jpg\"\n",
    "image = cv2.imread(image_file)\n",
    "scores, classes_ids, boxes, masks = yolov8.run(image)\n",
    "YOLOv8.draw_detections(image, scores, classes_ids, boxes, masks)\n",
    "show(image)"
   ]
  }
 ],
 "metadata": {
  "kernelspec": {
   "display_name": "env",
   "language": "python",
   "name": "python3"
  },
  "language_info": {
   "codemirror_mode": {
    "name": "ipython",
    "version": 3
   },
   "file_extension": ".py",
   "mimetype": "text/x-python",
   "name": "python",
   "nbconvert_exporter": "python",
   "pygments_lexer": "ipython3",
   "version": "3.9.0"
  },
  "orig_nbformat": 4
 },
 "nbformat": 4,
 "nbformat_minor": 2
}
