{
 "cells": [
  {
   "cell_type": "code",
   "execution_count": null,
   "metadata": {},
   "outputs": [],
   "source": [
    "%reload_ext autoreload\n",
    "%autoreload 2\n",
    "\n",
    "import numpy as np\n",
    "import cv2\n",
    "import open3d as o3d\n",
    "from estimate_object_pose import BoxSegmentation, BoxPoseEstimation\n",
    "from realsense_camera import RealsenseCamera\n",
    "from camera_utils import stream\n",
    "from copy import deepcopy\n",
    "from time import time\n",
    "\n",
    "def show(image):\n",
    "    cv2.imshow(\"image\", image)\n",
    "    cv2.waitKey(0)\n",
    "    cv2.destroyAllWindows()"
   ]
  },
  {
   "cell_type": "code",
   "execution_count": null,
   "metadata": {},
   "outputs": [],
   "source": [
    "# initialization\n",
    "\n",
    "camera = RealsenseCamera(enable_depth=True)\n",
    "\n",
    "camera.start()\n",
    "K = camera.get_K()\n",
    "D = camera.get_D()\n",
    "depth_scale = camera.get_depth_scale()\n",
    "camera.stop()\n",
    "\n",
    "box_segmentation = BoxSegmentation(erosion_size=10)\n",
    "box_pose_estimation = BoxPoseEstimation(\n",
    "    edges_sizes=np.array([0.11, 0.05, 0.022]), edge_points_per_cm=7,\n",
    "    voxel_size=0.005, depth_scale=depth_scale, K=K, D=D,\n",
    "    global_max_correspondence_distance=0.04, max_correspondence_distances=[0.02, 0.007])"
   ]
  },
  {
   "cell_type": "code",
   "execution_count": null,
   "metadata": {},
   "outputs": [],
   "source": [
    "# test box segmentation\n",
    "\n",
    "camera.start()\n",
    "stream(camera)  # waits for a key to get image\n",
    "image = camera.read()\n",
    "camera.stop()\n",
    "\n",
    "mask = box_segmentation.segment_box(image)\n",
    "masked_image = image.copy()\n",
    "masked_image[mask == 0] = 0\n",
    "show(masked_image)"
   ]
  },
  {
   "cell_type": "code",
   "execution_count": null,
   "metadata": {},
   "outputs": [],
   "source": [
    "# estimate box pose\n",
    "\n",
    "camera.start()\n",
    "stream(camera)  # waits for a key to get image\n",
    "image, depth = camera.read(read_color=True, read_depth=True)\n",
    "camera.stop()\n",
    "\n",
    "mask = box_segmentation.segment_box(image)\n",
    "box_pose = box_pose_estimation.estimate_pose(mask, depth)\n",
    "if box_pose is None:\n",
    "    print(\"Could not extract point cloud from depth image\")"
   ]
  },
  {
   "cell_type": "code",
   "execution_count": null,
   "metadata": {},
   "outputs": [],
   "source": [
    "# visualize point clouds\n",
    "\n",
    "transformed_box_pc = deepcopy(box_pose_estimation.gt_pc)\n",
    "transformed_box_pc.transform(box_pose)\n",
    "transformed_box_pc.paint_uniform_color(np.array([1, 0, 0]))\n",
    "extracted_box_pc = box_pose_estimation.extracted_pc\n",
    "extracted_box_pc.paint_uniform_color(np.array([0, 1, 0]))\n",
    "o3d.visualization.draw_geometries([transformed_box_pc, extracted_box_pc])"
   ]
  },
  {
   "cell_type": "code",
   "execution_count": null,
   "metadata": {},
   "outputs": [],
   "source": [
    "# visualize box frame\n",
    "\n",
    "force_z_axis_up = False\n",
    "if force_z_axis_up:\n",
    "    if box_pose[1, 2] > 0:\n",
    "        correction = np.eye(4)\n",
    "        correction[0:3, 0:3], _ = cv2.Rodrigues(np.array([np.pi, 0., 0.]))\n",
    "        pose = np.matmul(box_pose, correction)\n",
    "else:\n",
    "    pose = box_pose\n",
    "\n",
    "draw = image.copy()\n",
    "rvec, _ = cv2.Rodrigues(pose[0:3, 0:3])\n",
    "tvec = box_pose[0:3, 3]\n",
    "cv2.drawFrameAxes(draw, K, D, rvec, tvec, 0.07)\n",
    "show(draw)"
   ]
  },
  {
   "cell_type": "code",
   "execution_count": null,
   "metadata": {},
   "outputs": [],
   "source": [
    "# stream box frame\n",
    "\n",
    "def draw_box_frame(image, key, depth):\n",
    "    tic = time()\n",
    "    mask = box_segmentation.segment_box(image)\n",
    "    box_pose = box_pose_estimation.estimate_pose(mask, depth)\n",
    "    toc = time()\n",
    "    print(toc - tic)\n",
    "\n",
    "    if box_pose is None:\n",
    "        return\n",
    "\n",
    "    if box_pose[1, 2] > 0:\n",
    "        correction = np.eye(4)\n",
    "        correction[0:3, 0:3], _ = cv2.Rodrigues(np.array([np.pi, 0., 0.]))\n",
    "        box_pose = np.matmul(box_pose, correction)\n",
    "\n",
    "    rvec, _ = cv2.Rodrigues(box_pose[0:3, 0:3])\n",
    "    tvec = box_pose[0:3, 3]\n",
    "    cv2.drawFrameAxes(image, K, D, rvec, tvec, 0.07)\n",
    "\n",
    "camera.start()\n",
    "stream(camera, callbacks=draw_box_frame)\n",
    "camera.stop()"
   ]
  },
  {
   "attachments": {},
   "cell_type": "markdown",
   "metadata": {},
   "source": [
    "debug section"
   ]
  },
  {
   "cell_type": "code",
   "execution_count": null,
   "metadata": {},
   "outputs": [],
   "source": [
    "# debug box frame\n",
    "\n",
    "max_n = 30\n",
    "images = list()\n",
    "depths = list()\n",
    "draws = list()\n",
    "\n",
    "def draw_box_frame(image, key, depth):\n",
    "    images.append(image.copy())\n",
    "    depths.append(depth.copy())\n",
    "\n",
    "    tic = time()\n",
    "    mask = box_segmentation.segment_box(image)\n",
    "    box_pose = box_pose_estimation.estimate_pose(mask, depth)\n",
    "    toc = time()\n",
    "    print(toc - tic)\n",
    "\n",
    "    if box_pose is None:\n",
    "        draws.append(image.copy())\n",
    "        if len(images) > max_n:\n",
    "            images.pop(0)\n",
    "            depths.pop(0)\n",
    "            draws.pop(0)\n",
    "        return\n",
    "\n",
    "    if box_pose[1, 2] > 0:\n",
    "        correction = np.eye(4)\n",
    "        correction[0:3, 0:3], _ = cv2.Rodrigues(np.array([np.pi, 0., 0.]))\n",
    "        box_pose = np.matmul(box_pose, correction)\n",
    "\n",
    "    rvec, _ = cv2.Rodrigues(box_pose[0:3, 0:3])\n",
    "    tvec = box_pose[0:3, 3]\n",
    "    cv2.drawFrameAxes(image, K, D, rvec, tvec, 0.07)\n",
    "\n",
    "    draws.append(image.copy())\n",
    "\n",
    "    if len(images) > max_n:\n",
    "        images.pop(0)\n",
    "        depths.pop(0)\n",
    "        draws.pop(0)\n",
    "\n",
    "camera.start()\n",
    "stream(camera, callbacks=draw_box_frame)\n",
    "camera.stop()"
   ]
  },
  {
   "cell_type": "code",
   "execution_count": null,
   "metadata": {},
   "outputs": [],
   "source": [
    "for i, (image, depth, draw) in enumerate(zip(images, depths, draws)):\n",
    "    print(i)\n",
    "    show(draw)"
   ]
  },
  {
   "cell_type": "code",
   "execution_count": null,
   "metadata": {},
   "outputs": [],
   "source": [
    "i = 19\n",
    "show(draws[i])\n",
    "image = images[i]\n",
    "depth = depths[i]"
   ]
  }
 ],
 "metadata": {
  "kernelspec": {
   "display_name": "env",
   "language": "python",
   "name": "python3"
  },
  "language_info": {
   "codemirror_mode": {
    "name": "ipython",
    "version": 3
   },
   "file_extension": ".py",
   "mimetype": "text/x-python",
   "name": "python",
   "nbconvert_exporter": "python",
   "pygments_lexer": "ipython3",
   "version": "3.9.0"
  },
  "orig_nbformat": 4
 },
 "nbformat": 4,
 "nbformat_minor": 2
}
